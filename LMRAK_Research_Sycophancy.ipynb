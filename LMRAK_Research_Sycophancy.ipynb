{
  "nbformat": 4,
  "nbformat_minor": 0,
  "metadata": {
    "colab": {
      "provenance": [],
      "gpuType": "T4"
    },
    "kernelspec": {
      "name": "python3",
      "display_name": "Python 3"
    },
    "language_info": {
      "name": "python"
    },
    "accelerator": "GPU"
  },
  "cells": [
    {
      "cell_type": "code",
      "execution_count": null,
      "metadata": {
        "id": "OJJPaBvb-ay3"
      },
      "outputs": [],
      "source": [
        "!pip install torch transformers datasets bertviz matplotlib"
      ]
    },
    {
      "cell_type": "code",
      "source": [
        "!pip show torch transformers datasets bertviz matplotlib"
      ],
      "metadata": {
        "colab": {
          "base_uri": "https://localhost:8080/"
        },
        "collapsed": true,
        "id": "m49AEbIcFF4C",
        "outputId": "8f616e24-f838-4396-aeb9-44ff005e7d7a"
      },
      "execution_count": 2,
      "outputs": [
        {
          "output_type": "stream",
          "name": "stdout",
          "text": [
            "Name: torch\n",
            "Version: 2.5.1+cu121\n",
            "Summary: Tensors and Dynamic neural networks in Python with strong GPU acceleration\n",
            "Home-page: https://pytorch.org/\n",
            "Author: PyTorch Team\n",
            "Author-email: packages@pytorch.org\n",
            "License: BSD-3-Clause\n",
            "Location: /usr/local/lib/python3.10/dist-packages\n",
            "Requires: filelock, fsspec, jinja2, networkx, sympy, typing-extensions\n",
            "Required-by: accelerate, bertviz, fastai, peft, sentence-transformers, timm, torchaudio, torchvision\n",
            "---\n",
            "Name: transformers\n",
            "Version: 4.47.1\n",
            "Summary: State-of-the-art Machine Learning for JAX, PyTorch and TensorFlow\n",
            "Home-page: https://github.com/huggingface/transformers\n",
            "Author: The Hugging Face team (past and future) with the help of all our contributors (https://github.com/huggingface/transformers/graphs/contributors)\n",
            "Author-email: transformers@huggingface.co\n",
            "License: Apache 2.0 License\n",
            "Location: /usr/local/lib/python3.10/dist-packages\n",
            "Requires: filelock, huggingface-hub, numpy, packaging, pyyaml, regex, requests, safetensors, tokenizers, tqdm\n",
            "Required-by: bertviz, peft, sentence-transformers\n",
            "---\n",
            "Name: datasets\n",
            "Version: 3.2.0\n",
            "Summary: HuggingFace community-driven open-source library of datasets\n",
            "Home-page: https://github.com/huggingface/datasets\n",
            "Author: HuggingFace Inc.\n",
            "Author-email: thomas@huggingface.co\n",
            "License: Apache 2.0\n",
            "Location: /usr/local/lib/python3.10/dist-packages\n",
            "Requires: aiohttp, dill, filelock, fsspec, huggingface-hub, multiprocess, numpy, packaging, pandas, pyarrow, pyyaml, requests, tqdm, xxhash\n",
            "Required-by: \n",
            "---\n",
            "Name: bertviz\n",
            "Version: 1.4.0\n",
            "Summary: Attention visualization tool for NLP Transformer models.\n",
            "Home-page: https://github.com/jessevig/bertviz\n",
            "Author: Jesse Vig\n",
            "Author-email: \n",
            "License: Apache 2.0\n",
            "Location: /usr/local/lib/python3.10/dist-packages\n",
            "Requires: boto3, regex, requests, sentencepiece, torch, tqdm, transformers\n",
            "Required-by: \n",
            "---\n",
            "Name: matplotlib\n",
            "Version: 3.8.0\n",
            "Summary: Python plotting package\n",
            "Home-page: https://matplotlib.org\n",
            "Author: John D. Hunter, Michael Droettboom\n",
            "Author-email: matplotlib-users@python.org\n",
            "License: PSF\n",
            "Location: /usr/local/lib/python3.10/dist-packages\n",
            "Requires: contourpy, cycler, fonttools, kiwisolver, numpy, packaging, pillow, pyparsing, python-dateutil\n",
            "Required-by: arviz, bigframes, datascience, fastai, geemap, imgaug, matplotlib-venn, missingno, mlxtend, music21, plotnine, prophet, pycocotools, seaborn, wordcloud, yellowbrick\n"
          ]
        }
      ]
    },
    {
      "cell_type": "code",
      "source": [
        "import torch\n",
        "from transformers import AutoModel, AutoTokenizer, Trainer, TrainingArguments, pipeline\n",
        "from datasets import load_dataset\n",
        "from bertviz import head_view\n",
        "import matplotlib.pyplot as plt\n",
        "#All imports\n"
      ],
      "metadata": {
        "id": "1gF65SSuQVDE"
      },
      "execution_count": null,
      "outputs": []
    },
    {
      "cell_type": "code",
      "source": [
        "#from datasets import load_dataset (Using datasets to import load_dataset as you see above)\n",
        "class DatasetLoader:\n",
        "    def __init__(self, dataset_name):\n",
        "        self.dataset = load_dataset(dataset_name)\n",
        "\n",
        "    def get_split(self, split=\"train\"):\n",
        "        return self.dataset[split]\n"
      ],
      "metadata": {
        "id": "E9TrVxTuEo5w"
      },
      "execution_count": 3,
      "outputs": []
    },
    {
      "cell_type": "code",
      "source": [
        "dataset_loader = DatasetLoader(\"\")\n",
        "train_dataset = dataset_loader.get_split(\"\")\n",
        "eval_dataset = dataset_loader.get_split(\"\")"
      ],
      "metadata": {
        "id": "SC8XnfU5DdjG"
      },
      "execution_count": null,
      "outputs": []
    }
  ]
}